{
 "cells": [
  {
   "attachments": {},
   "cell_type": "markdown",
   "metadata": {},
   "source": [
    "Using Splitfolders library that performs a stratified split on the dataset.\n",
    "we divide the training,validation and test data in ratio of 0.8:0.1:0.1 respectively"
   ]
  },
  {
   "cell_type": "code",
   "execution_count": 1,
   "metadata": {},
   "outputs": [
    {
     "name": "stderr",
     "output_type": "stream",
     "text": [
      "Copying files: 24747 files [01:51, 221.48 files/s]\n"
     ]
    }
   ],
   "source": [
    "\n",
    "import splitfolders  \n",
    "\n",
    "input_folder = 'RSI-CB256'\n",
    "splitfolders.ratio(input_folder, output=\"satellite-data_splitted\", \n",
    "                    seed=5824, ratio=(.8, .1, .1), \n",
    "                    group_prefix=None) \n"
   ]
  },
  {
   "cell_type": "code",
   "execution_count": 1,
   "metadata": {},
   "outputs": [],
   "source": [
    "TRAIN_DIR = \"C:/Users/jaimi/Downloads/AMLP/satellite-data_splitted/train\"\n",
    "VAL_DIR = \"C:/Users/jaimi/Downloads/AMLP/satellite-data_splitted/val\"\n",
    "TEST_DIR = \"C:/Users/jaimi/Downloads/AMLP/satellite-data_splitted/test\""
   ]
  },
  {
   "cell_type": "code",
   "execution_count": 4,
   "metadata": {},
   "outputs": [
    {
     "name": "stdout",
     "output_type": "stream",
     "text": [
      "For training data, found 280 in folder airplane\n",
      "For training data, found 542 in folder airport_runway\n",
      "For training data, found 226 in folder artificial_grassland\n",
      "For training data, found 435 in folder avenue\n",
      "For training data, found 691 in folder bare_land\n",
      "For training data, found 375 in folder bridge\n",
      "For training data, found 811 in folder city_building\n",
      "For training data, found 367 in folder coastline\n",
      "For training data, found 528 in folder container\n",
      "For training data, found 442 in folder crossroads\n",
      "For training data, found 259 in folder dam\n",
      "For training data, found 873 in folder desert\n",
      "For training data, found 1047 in folder dry_farm\n",
      "For training data, found 865 in folder forest\n",
      "For training data, found 515 in folder green_farmland\n",
      "For training data, found 178 in folder highway\n",
      "For training data, found 502 in folder hirst\n",
      "For training data, found 350 in folder lakeshore\n",
      "For training data, found 839 in folder mangrove\n",
      "For training data, found 292 in folder marina\n",
      "For training data, found 649 in folder mountain\n",
      "For training data, found 373 in folder parkinglot\n",
      "For training data, found 158 in folder pipeline\n",
      "For training data, found 648 in folder residents\n",
      "For training data, found 431 in folder river\n",
      "For training data, found 419 in folder river_protection_forest\n",
      "For training data, found 428 in folder sandbeach\n",
      "For training data, found 703 in folder sapling\n",
      "For training data, found 822 in folder sea\n",
      "For training data, found 1064 in folder shrubwood\n",
      "For training data, found 922 in folder snow_mountain\n",
      "For training data, found 888 in folder sparse_forest\n",
      "For training data, found 1045 in folder storage_room\n",
      "For training data, found 550 in folder stream\n",
      "For training data, found 268 in folder town\n"
     ]
    }
   ],
   "source": [
    "import glob as gb\n",
    "import os\n",
    "for folder in os.listdir(TRAIN_DIR):\n",
    "    files = gb.glob(pathname= str(TRAIN_DIR+ '/'+ folder + '/*.tif'))\n",
    "    print(f'For training data, found {len(files)} in folder {folder}')"
   ]
  },
  {
   "cell_type": "code",
   "execution_count": 5,
   "metadata": {},
   "outputs": [
    {
     "name": "stdout",
     "output_type": "stream",
     "text": [
      "For validation data, found 35 in folder airplane\n",
      "For validation data, found 67 in folder airport_runway\n",
      "For validation data, found 28 in folder artificial_grassland\n",
      "For validation data, found 54 in folder avenue\n",
      "For validation data, found 86 in folder bare_land\n",
      "For validation data, found 46 in folder bridge\n",
      "For validation data, found 101 in folder city_building\n",
      "For validation data, found 45 in folder coastline\n",
      "For validation data, found 66 in folder container\n",
      "For validation data, found 55 in folder crossroads\n",
      "For validation data, found 32 in folder dam\n",
      "For validation data, found 109 in folder desert\n",
      "For validation data, found 130 in folder dry_farm\n",
      "For validation data, found 108 in folder forest\n",
      "For validation data, found 64 in folder green_farmland\n",
      "For validation data, found 22 in folder highway\n",
      "For validation data, found 62 in folder hirst\n",
      "For validation data, found 43 in folder lakeshore\n",
      "For validation data, found 104 in folder mangrove\n",
      "For validation data, found 36 in folder marina\n",
      "For validation data, found 81 in folder mountain\n",
      "For validation data, found 46 in folder parkinglot\n",
      "For validation data, found 19 in folder pipeline\n",
      "For validation data, found 81 in folder residents\n",
      "For validation data, found 53 in folder river\n",
      "For validation data, found 52 in folder river_protection_forest\n",
      "For validation data, found 53 in folder sandbeach\n",
      "For validation data, found 87 in folder sapling\n",
      "For validation data, found 102 in folder sea\n",
      "For validation data, found 133 in folder shrubwood\n",
      "For validation data, found 115 in folder snow_mountain\n",
      "For validation data, found 111 in folder sparse_forest\n",
      "For validation data, found 130 in folder storage_room\n",
      "For validation data, found 68 in folder stream\n",
      "For validation data, found 33 in folder town\n"
     ]
    }
   ],
   "source": [
    "for folder in os.listdir(VAL_DIR):\n",
    "    files = gb.glob(pathname= str(VAL_DIR+ '/'+ folder + '/*.tif'))\n",
    "    print(f'For validation data, found {len(files)} in folder {folder}')"
   ]
  },
  {
   "cell_type": "code",
   "execution_count": 6,
   "metadata": {},
   "outputs": [
    {
     "name": "stdout",
     "output_type": "stream",
     "text": [
      "For testing data, found 36 in folder airplane\n",
      "For testing data, found 69 in folder airport_runway\n",
      "For testing data, found 29 in folder artificial_grassland\n",
      "For testing data, found 55 in folder avenue\n",
      "For testing data, found 87 in folder bare_land\n",
      "For testing data, found 48 in folder bridge\n",
      "For testing data, found 102 in folder city_building\n",
      "For testing data, found 47 in folder coastline\n",
      "For testing data, found 66 in folder container\n",
      "For testing data, found 56 in folder crossroads\n",
      "For testing data, found 33 in folder dam\n",
      "For testing data, found 110 in folder desert\n",
      "For testing data, found 132 in folder dry_farm\n",
      "For testing data, found 109 in folder forest\n",
      "For testing data, found 65 in folder green_farmland\n",
      "For testing data, found 23 in folder highway\n",
      "For testing data, found 64 in folder hirst\n",
      "For testing data, found 45 in folder lakeshore\n",
      "For testing data, found 106 in folder mangrove\n",
      "For testing data, found 38 in folder marina\n",
      "For testing data, found 82 in folder mountain\n",
      "For testing data, found 48 in folder parkinglot\n",
      "For testing data, found 21 in folder pipeline\n",
      "For testing data, found 81 in folder residents\n",
      "For testing data, found 55 in folder river\n",
      "For testing data, found 53 in folder river_protection_forest\n",
      "For testing data, found 55 in folder sandbeach\n",
      "For testing data, found 89 in folder sapling\n",
      "For testing data, found 104 in folder sea\n",
      "For testing data, found 134 in folder shrubwood\n",
      "For testing data, found 116 in folder snow_mountain\n",
      "For testing data, found 111 in folder sparse_forest\n",
      "For testing data, found 132 in folder storage_room\n",
      "For testing data, found 70 in folder stream\n",
      "For testing data, found 34 in folder town\n"
     ]
    }
   ],
   "source": [
    "for folder in os.listdir(TEST_DIR):\n",
    "    files = gb.glob(pathname= str(TEST_DIR+ '/'+ folder + '/*.tif'))\n",
    "    print(f'For testing data, found {len(files)} in folder {folder}')"
   ]
  },
  {
   "cell_type": "code",
   "execution_count": null,
   "metadata": {},
   "outputs": [],
   "source": []
  }
 ],
 "metadata": {
  "kernelspec": {
   "display_name": "Python 3.9.12 ('base')",
   "language": "python",
   "name": "python3"
  },
  "language_info": {
   "codemirror_mode": {
    "name": "ipython",
    "version": 3
   },
   "file_extension": ".py",
   "mimetype": "text/x-python",
   "name": "python",
   "nbconvert_exporter": "python",
   "pygments_lexer": "ipython3",
   "version": "3.9.12"
  },
  "orig_nbformat": 4,
  "vscode": {
   "interpreter": {
    "hash": "eb94555b3bad7502515e9aa7677dbe7f2dab987ecd902c9fcfd0ed5fef3b5a39"
   }
  }
 },
 "nbformat": 4,
 "nbformat_minor": 2
}
